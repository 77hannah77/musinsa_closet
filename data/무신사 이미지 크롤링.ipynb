{
 "cells": [
  {
   "cell_type": "markdown",
   "metadata": {},
   "source": [
    "# 라이브러리"
   ]
  },
  {
   "cell_type": "code",
   "execution_count": 1,
   "metadata": {
    "ExecuteTime": {
     "end_time": "2022-06-24T13:41:50.100025Z",
     "start_time": "2022-06-24T13:41:40.363994Z"
    }
   },
   "outputs": [],
   "source": [
    "import pandas as pd\n",
    "import requests\n",
    "import time\n",
    "import re\n",
    "\n",
    "from bs4 import BeautifulSoup\n",
    "from selenium.webdriver.common.keys import Keys\n",
    "from selenium.common.exceptions import NoSuchElementException\n",
    "from selenium import webdriver"
   ]
  },
  {
   "cell_type": "markdown",
   "metadata": {},
   "source": [
    "# 셀레니움으로 무신사 접속하는 코드"
   ]
  },
  {
   "cell_type": "markdown",
   "metadata": {},
   "source": [
    "## 기본 코드"
   ]
  },
  {
   "cell_type": "code",
   "execution_count": null,
   "metadata": {
    "ExecuteTime": {
     "end_time": "2022-05-29T17:14:33.674950Z",
     "start_time": "2022-05-29T17:14:22.766457Z"
    }
   },
   "outputs": [],
   "source": [
    "# 창 열기 (각자 셀레니움의 크롬드라이브 위치로 할당해야함)\n",
    "chromedriver = 'C:\\selenium\\chromedriver.exe'\n",
    "driver = webdriver.Chrome(chromedriver)\n",
    "driver.maximize_window()\n",
    "\n",
    "#무신사 접속\n",
    "url = 'https://store.musinsa.com/app/styles/lists'\n",
    "driver.get(url)"
   ]
  },
  {
   "cell_type": "markdown",
   "metadata": {},
   "source": [
    "## 만약 버전 문제가 있다면, 아래 코드 실행\n",
    "\n",
    "autoinstaller을 설치해서 driver 버전 맞춰줌"
   ]
  },
  {
   "cell_type": "code",
   "execution_count": 3,
   "metadata": {
    "ExecuteTime": {
     "end_time": "2022-05-29T10:23:59.858520Z",
     "start_time": "2022-05-29T10:23:47.238267Z"
    },
    "scrolled": true
   },
   "outputs": [
    {
     "name": "stdout",
     "output_type": "stream",
     "text": [
      "Collecting chromedriver-autoinstaller\n",
      "  Downloading chromedriver_autoinstaller-0.3.1-py3-none-any.whl (6.3 kB)\n",
      "Installing collected packages: chromedriver-autoinstaller\n",
      "Successfully installed chromedriver-autoinstaller-0.3.1\n"
     ]
    },
    {
     "name": "stderr",
     "output_type": "stream",
     "text": [
      "WARNING: Ignoring invalid distribution -pype1 (c:\\users\\82103\\anaconda\\lib\\site-packages)\n",
      "WARNING: Ignoring invalid distribution -ip (c:\\users\\82103\\anaconda\\lib\\site-packages)\n",
      "WARNING: Ignoring invalid distribution -pype1 (c:\\users\\82103\\anaconda\\lib\\site-packages)\n",
      "WARNING: Ignoring invalid distribution -ip (c:\\users\\82103\\anaconda\\lib\\site-packages)\n",
      "WARNING: Ignoring invalid distribution -pype1 (c:\\users\\82103\\anaconda\\lib\\site-packages)\n",
      "WARNING: Ignoring invalid distribution -ip (c:\\users\\82103\\anaconda\\lib\\site-packages)\n",
      "WARNING: Ignoring invalid distribution -pype1 (c:\\users\\82103\\anaconda\\lib\\site-packages)\n",
      "WARNING: Ignoring invalid distribution -ip (c:\\users\\82103\\anaconda\\lib\\site-packages)\n",
      "WARNING: Ignoring invalid distribution -pype1 (c:\\users\\82103\\anaconda\\lib\\site-packages)\n",
      "WARNING: Ignoring invalid distribution -ip (c:\\users\\82103\\anaconda\\lib\\site-packages)\n",
      "WARNING: Ignoring invalid distribution -pype1 (c:\\users\\82103\\anaconda\\lib\\site-packages)\n",
      "WARNING: Ignoring invalid distribution -ip (c:\\users\\82103\\anaconda\\lib\\site-packages)\n",
      "WARNING: Ignoring invalid distribution -pype1 (c:\\users\\82103\\anaconda\\lib\\site-packages)\n",
      "WARNING: Ignoring invalid distribution -ip (c:\\users\\82103\\anaconda\\lib\\site-packages)\n",
      "WARNING: There was an error checking the latest version of pip.\n"
     ]
    }
   ],
   "source": [
    "!pip install chromedriver-autoinstaller"
   ]
  },
  {
   "cell_type": "code",
   "execution_count": 2,
   "metadata": {
    "ExecuteTime": {
     "end_time": "2022-06-24T13:42:08.666633Z",
     "start_time": "2022-06-24T13:41:50.107007Z"
    }
   },
   "outputs": [],
   "source": [
    "import chromedriver_autoinstaller\n",
    "\n",
    "chrome_ver = chromedriver_autoinstaller.get_chrome_version().split('.')[0]  #크롬드라이버 버전 확인\n",
    "\n",
    "try:\n",
    "    driver = webdriver.Chrome(f'./{chrome_ver}/chromedriver.exe')   \n",
    "except:\n",
    "    chromedriver_autoinstaller.install(True)\n",
    "    driver = webdriver.Chrome(f'./{chrome_ver}/chromedriver.exe')\n",
    "\n",
    "driver.maximize_window()\n",
    "url = 'https://store.musinsa.com/app/styles/lists'\n",
    "driver.get(url)"
   ]
  },
  {
   "cell_type": "markdown",
   "metadata": {},
   "source": [
    "# 카테고리 선택"
   ]
  },
  {
   "cell_type": "markdown",
   "metadata": {},
   "source": [
    "## 여성"
   ]
  },
  {
   "cell_type": "code",
   "execution_count": 25,
   "metadata": {
    "ExecuteTime": {
     "end_time": "2022-05-30T17:22:03.701604Z",
     "start_time": "2022-05-30T17:21:58.057521Z"
    }
   },
   "outputs": [],
   "source": [
    "#여성 선택\n",
    "driver.find_element_by_xpath('/html/body/div[3]/div[3]/div[1]/button[3]').click()\n",
    "\n",
    "#스크롤 창의 맨 위로 올리기\n",
    "driver.execute_script('window.scrollTo(0,0)')"
   ]
  },
  {
   "cell_type": "markdown",
   "metadata": {},
   "source": [
    "여성 num\n",
    "- 캐주얼: 1\n",
    "- 시크: 2\n",
    "- 포멀: 3\n",
    "- 걸리시: 4\n",
    "- 골프: 5\n",
    "- 레트로: 6\n",
    "- 로맨틱: 7\n",
    "- 스포츠: 8\n",
    "- 스트릿: 9"
   ]
  },
  {
   "cell_type": "code",
   "execution_count": 35,
   "metadata": {
    "ExecuteTime": {
     "end_time": "2022-05-30T17:28:59.456551Z",
     "start_time": "2022-05-30T17:28:59.434803Z"
    }
   },
   "outputs": [],
   "source": [
    "#num 설정 ->>>> 위의 list를 보고 카테고리에 맞게 바꿔주세욤\n",
    "num=6"
   ]
  },
  {
   "cell_type": "code",
   "execution_count": 36,
   "metadata": {
    "ExecuteTime": {
     "end_time": "2022-05-30T17:29:04.874904Z",
     "start_time": "2022-05-30T17:29:00.546230Z"
    }
   },
   "outputs": [],
   "source": [
    "#옷 카테고리 선택\n",
    "driver.find_element_by_xpath(f'//*[@id=\"catelist\"]/div[3]/div/dl/dd/ul/li[{num}]/a/span').click()"
   ]
  },
  {
   "cell_type": "markdown",
   "metadata": {},
   "source": [
    "## 남성"
   ]
  },
  {
   "cell_type": "code",
   "execution_count": 10,
   "metadata": {
    "ExecuteTime": {
     "end_time": "2022-05-29T10:36:51.907572Z",
     "start_time": "2022-05-29T10:36:41.583490Z"
    }
   },
   "outputs": [],
   "source": [
    "#남성 선택\n",
    "driver.find_element_by_xpath('/html/body/div[3]/div[3]/div[1]/button[2]').click()\n",
    "\n",
    "#스크롤 창의 맨 위로 올리기\n",
    "driver.execute_script('window.scrollTo(0,0)')"
   ]
  },
  {
   "cell_type": "markdown",
   "metadata": {},
   "source": [
    "남성 num\n",
    "- 아메리칸 캐주얼: 1\n",
    "- 캐주얼: 2\n",
    "- 시크: 3\n",
    "- 댄디: 4\n",
    "- 포멀: 5\n",
    "- 골프: 6\n",
    "- 스포츠: 7\n",
    "- 스트릿: 8"
   ]
  },
  {
   "cell_type": "code",
   "execution_count": null,
   "metadata": {},
   "outputs": [],
   "source": [
    "#num 설정 ->>>> 위의 list를 보고 카테고리에 맞게 바꿔주세욤\n",
    "num=1"
   ]
  },
  {
   "cell_type": "code",
   "execution_count": 18,
   "metadata": {
    "ExecuteTime": {
     "end_time": "2022-05-29T10:52:30.096788Z",
     "start_time": "2022-05-29T10:52:30.088811Z"
    }
   },
   "outputs": [],
   "source": [
    "#옷 카테고리 선택\n",
    "driver.find_element_by_xpath(f'//*[@id=\"catelist\"]/div[3]/div/dl/dd/ul/li[{num}]/a/span').click()"
   ]
  },
  {
   "cell_type": "markdown",
   "metadata": {},
   "source": [
    "# 이미지 저장"
   ]
  },
  {
   "cell_type": "code",
   "execution_count": 37,
   "metadata": {
    "ExecuteTime": {
     "end_time": "2022-05-30T17:29:17.531826Z",
     "start_time": "2022-05-30T17:29:17.506892Z"
    }
   },
   "outputs": [],
   "source": [
    "import os\n",
    "\n",
    "#이미지 담을 폴더 만들기 ->>>>> 자기가 맡은 카테고리로 폴더명 설정\n",
    "img_folder = './여성레트로_images'\n",
    "os.mkdir(img_folder)\n"
   ]
  },
  {
   "cell_type": "code",
   "execution_count": 38,
   "metadata": {
    "ExecuteTime": {
     "end_time": "2022-05-30T17:29:25.761487Z",
     "start_time": "2022-05-30T17:29:18.522621Z"
    }
   },
   "outputs": [
    {
     "data": {
      "text/plain": [
       "3"
      ]
     },
     "execution_count": 38,
     "metadata": {},
     "output_type": "execute_result"
    }
   ],
   "source": [
    "# 전체 페이지 수 구하기\n",
    "html = driver.page_source\n",
    "soup=BeautifulSoup(html, 'html.parser')\n",
    "total_pages= int(soup.find(attrs = {'class' : 'totalPagingNum'}).get_text().strip())\n",
    "total_pages"
   ]
  },
  {
   "cell_type": "code",
   "execution_count": 39,
   "metadata": {
    "ExecuteTime": {
     "end_time": "2022-05-30T17:29:40.211415Z",
     "start_time": "2022-05-30T17:29:30.107860Z"
    },
    "scrolled": true
   },
   "outputs": [],
   "source": [
    "#이미지 url 리스트 만들기\n",
    "img_url = []\n",
    "\n",
    "for page in range(total_pages):\n",
    "    #한 페이지마다 images 긁어오기\n",
    "    images = driver.find_elements_by_css_selector(\"div.style-list-item__thumbnail > a > div > img\")\n",
    "    for image in images :\n",
    "        url = image.get_attribute('src')\n",
    "        img_url.append(url)\n",
    "        \n",
    "    page_index= page%10 + 4\n",
    "    \n",
    "    #마지막 페이지라면 그만\n",
    "    if (page+1) == total_pages:\n",
    "        pass\n",
    "    #페이지가 10단위라면 화살표 클릭\n",
    "    elif (page+1)%10==0:\n",
    "        time.sleep(0.8)\n",
    "        driver.find_element_by_xpath('/html/body/div[3]/div[3]/form/div[4]/div/div[4]/div/div/a[13]').send_keys(Keys.ENTER)\n",
    "        time.sleep(0.8)\n",
    "    #다음 페이지로 이동\n",
    "    else:\n",
    "        time.sleep(0.8)\n",
    "        driver.find_element_by_xpath(f'/html/body/div[3]/div[3]/form/div[4]/div/div[4]/div/div/a[{page_index}]').send_keys(Keys.ENTER)\n",
    "        time.sleep(0.8)\n",
    "    "
   ]
  },
  {
   "cell_type": "code",
   "execution_count": null,
   "metadata": {
    "ExecuteTime": {
     "start_time": "2022-05-30T17:29:45.190Z"
    }
   },
   "outputs": [],
   "source": [
    "from urllib.request import urlretrieve\n",
    "\n",
    "#폴더에 이미지 저장\n",
    "for index, link in enumerate(img_url) :\n",
    "    urlretrieve(link, img_folder+\"/\"+str(index)+'.jpg')"
   ]
  },
  {
   "cell_type": "code",
   "execution_count": null,
   "metadata": {},
   "outputs": [],
   "source": []
  },
  {
   "cell_type": "code",
   "execution_count": null,
   "metadata": {},
   "outputs": [],
   "source": []
  }
 ],
 "metadata": {
  "kernelspec": {
   "display_name": "Python 3",
   "language": "python",
   "name": "python3"
  },
  "language_info": {
   "codemirror_mode": {
    "name": "ipython",
    "version": 3
   },
   "file_extension": ".py",
   "mimetype": "text/x-python",
   "name": "python",
   "nbconvert_exporter": "python",
   "pygments_lexer": "ipython3",
   "version": "3.8.5"
  },
  "toc": {
   "base_numbering": 1,
   "nav_menu": {},
   "number_sections": true,
   "sideBar": true,
   "skip_h1_title": false,
   "title_cell": "Table of Contents",
   "title_sidebar": "Contents",
   "toc_cell": false,
   "toc_position": {},
   "toc_section_display": true,
   "toc_window_display": true
  }
 },
 "nbformat": 4,
 "nbformat_minor": 4
}
